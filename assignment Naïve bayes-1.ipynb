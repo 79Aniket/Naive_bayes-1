{
 "cells": [
  {
   "cell_type": "markdown",
   "id": "0026f980-bb58-41c5-bc05-8f1159496d08",
   "metadata": {},
   "source": [
    "## Q1. What is Bayes' theorem?"
   ]
  },
  {
   "cell_type": "markdown",
   "id": "6e24c3f3-eb29-4856-9eaa-4c0e0ce925e1",
   "metadata": {},
   "source": [
    "## The Bayes theorem is a mathematical formula for calculating conditional probability in probability and statistics. In other words, it's used to figure out how likely an event is based on its proximity to another"
   ]
  },
  {
   "cell_type": "code",
   "execution_count": null,
   "id": "1efb1b2a-d4c9-4336-9b3e-e2cfb0970a5c",
   "metadata": {},
   "outputs": [],
   "source": []
  },
  {
   "cell_type": "markdown",
   "id": "acd39cae-131a-4499-b4f3-8156c93c0107",
   "metadata": {},
   "source": [
    "## Q2. What is the formula for Bayes' theorem?"
   ]
  },
  {
   "cell_type": "markdown",
   "id": "3460f6ea-6de5-4b57-9b5d-57ea518f9582",
   "metadata": {},
   "source": [
    "## P(A|B) = P(B|A) * P(A) / P(B)\n",
    "\n",
    "## .P(A|B) is the probability of event A occurring, given that event B has already occurred.\n",
    "## .P(B|A) is the probability of event B occurring, given that event A has already occurred.\n",
    "## .P(A) is the probability of event A occurring without any knowledge of event B.\n",
    "## .P(B) is the probability of event B occurring without any knowledge of event A."
   ]
  },
  {
   "cell_type": "code",
   "execution_count": null,
   "id": "e477a4d8-b831-4f1f-8571-126825e03f51",
   "metadata": {},
   "outputs": [],
   "source": []
  },
  {
   "cell_type": "markdown",
   "id": "e773290d-4e0b-412a-9fc3-def879363774",
   "metadata": {},
   "source": [
    "## Q3. How is Bayes' theorem used in practice?"
   ]
  },
  {
   "cell_type": "markdown",
   "id": "858f2285-cbb8-4c01-8c2c-49c1cd631230",
   "metadata": {},
   "source": [
    "## Bayes' theorem is used in practice in a variety of fields, including:\n",
    "\n",
    "## 1. Medicine.\n",
    "## 2. Finance.\n",
    "## 3. Machine learning.\n",
    "## 4. Natural language processing.\n"
   ]
  },
  {
   "cell_type": "code",
   "execution_count": null,
   "id": "034d7e72-823d-4ad4-af26-160a8a4e1181",
   "metadata": {},
   "outputs": [],
   "source": []
  },
  {
   "cell_type": "markdown",
   "id": "7a7b03b1-2d8f-4c06-bcdf-04ba86ea1f9c",
   "metadata": {},
   "source": [
    "## Q4. What is the relationship between Bayes' theorem and conditional probability?"
   ]
  },
  {
   "cell_type": "markdown",
   "id": "682f6fc5-b10d-40ae-931d-e9c446a231ff",
   "metadata": {},
   "source": [
    "## Bayes' theorem is a mathematical formula that describes how to calculate conditional probability.\n",
    "## Conditional probability is the probability of an event occurring, given that another event has already occurred."
   ]
  },
  {
   "cell_type": "code",
   "execution_count": null,
   "id": "2c298b16-06f0-445e-bbd3-514242877896",
   "metadata": {},
   "outputs": [],
   "source": []
  },
  {
   "cell_type": "markdown",
   "id": "07ba6e73-f1a1-467a-9bc8-f6f4c5d3aed5",
   "metadata": {},
   "source": [
    "## Q5. How do you choose which type of Naive Bayes classifier to use for any given problem?"
   ]
  },
  {
   "cell_type": "markdown",
   "id": "5a96fbc3-1760-4934-842c-abfc4907eb87",
   "metadata": {},
   "source": [
    "## you need to consider the type of data you have and the specific task you are trying to solve.\n",
    "## Gaussian Naive Bayes.\n",
    "## Multinomial Naive Bayes.\n",
    "## Bernoulli Naive Bayes.\n",
    "\n",
    "##  If you are not sure which type of Naive Bayes classifier to use, you can try all three and see which one performs best on your data."
   ]
  },
  {
   "cell_type": "code",
   "execution_count": null,
   "id": "6f00241f-8781-4d95-919c-d5903d642072",
   "metadata": {},
   "outputs": [],
   "source": []
  },
  {
   "cell_type": "code",
   "execution_count": null,
   "id": "06d9b689-e2a5-47c8-9293-3599e4fee592",
   "metadata": {},
   "outputs": [],
   "source": []
  }
 ],
 "metadata": {
  "kernelspec": {
   "display_name": "Python 3 (ipykernel)",
   "language": "python",
   "name": "python3"
  },
  "language_info": {
   "codemirror_mode": {
    "name": "ipython",
    "version": 3
   },
   "file_extension": ".py",
   "mimetype": "text/x-python",
   "name": "python",
   "nbconvert_exporter": "python",
   "pygments_lexer": "ipython3",
   "version": "3.10.8"
  }
 },
 "nbformat": 4,
 "nbformat_minor": 5
}
